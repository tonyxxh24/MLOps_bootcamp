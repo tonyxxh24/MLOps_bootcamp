{
  "nbformat": 4,
  "nbformat_minor": 0,
  "metadata": {
    "colab": {
      "provenance": [],
      "mount_file_id": "1vqek0QxxHDL9tEZPgmMznqLpUovIkFrO",
      "authorship_tag": "ABX9TyPLc++St3Eovw1dg+iFDeGr",
      "include_colab_link": true
    },
    "kernelspec": {
      "name": "python3",
      "display_name": "Python 3"
    },
    "language_info": {
      "name": "python"
    }
  },
  "cells": [
    {
      "cell_type": "markdown",
      "metadata": {
        "id": "view-in-github",
        "colab_type": "text"
      },
      "source": [
        "<a href=\"https://colab.research.google.com/github/tonyxxh24/MLOps_bootcamp/blob/main/MLOps_HW1.ipynb\" target=\"_parent\"><img src=\"https://colab.research.google.com/assets/colab-badge.svg\" alt=\"Open In Colab\"/></a>"
      ]
    },
    {
      "cell_type": "code",
      "execution_count": null,
      "metadata": {
        "id": "2dtpUoby7-uA",
        "colab": {
          "base_uri": "https://localhost:8080/"
        },
        "outputId": "d5c8ef3a-e2eb-424d-fb4d-74168904ddaf"
      },
      "outputs": [
        {
          "output_type": "stream",
          "name": "stdout",
          "text": [
            "   VendorID tpep_pickup_datetime tpep_dropoff_datetime  passenger_count  \\\n",
            "0         2  2023-01-01 00:32:10   2023-01-01 00:40:36              1.0   \n",
            "1         2  2023-01-01 00:55:08   2023-01-01 01:01:27              1.0   \n",
            "2         2  2023-01-01 00:25:04   2023-01-01 00:37:49              1.0   \n",
            "3         1  2023-01-01 00:03:48   2023-01-01 00:13:25              0.0   \n",
            "4         2  2023-01-01 00:10:29   2023-01-01 00:21:19              1.0   \n",
            "\n",
            "   trip_distance  RatecodeID store_and_fwd_flag  PULocationID  DOLocationID  \\\n",
            "0           0.97         1.0                  N           161           141   \n",
            "1           1.10         1.0                  N            43           237   \n",
            "2           2.51         1.0                  N            48           238   \n",
            "3           1.90         1.0                  N           138             7   \n",
            "4           1.43         1.0                  N           107            79   \n",
            "\n",
            "   payment_type  fare_amount  extra  mta_tax  tip_amount  tolls_amount  \\\n",
            "0             2          9.3   1.00      0.5        0.00           0.0   \n",
            "1             1          7.9   1.00      0.5        4.00           0.0   \n",
            "2             1         14.9   1.00      0.5       15.00           0.0   \n",
            "3             1         12.1   7.25      0.5        0.00           0.0   \n",
            "4             1         11.4   1.00      0.5        3.28           0.0   \n",
            "\n",
            "   improvement_surcharge  total_amount  congestion_surcharge  airport_fee  \n",
            "0                    1.0         14.30                   2.5         0.00  \n",
            "1                    1.0         16.90                   2.5         0.00  \n",
            "2                    1.0         34.90                   2.5         0.00  \n",
            "3                    1.0         20.85                   0.0         1.25  \n",
            "4                    1.0         19.68                   2.5         0.00  \n"
          ]
        }
      ],
      "source": [
        "import pandas as pd\n",
        "\n",
        "# Load the Parquet file\n",
        "df = pd.read_parquet(\"/content/drive/MyDrive/MLOps bootcamp/yellow_tripdata_2023-01.parquet\")\n",
        "\n",
        "# Display the first few rows\n",
        "print(df.head())"
      ]
    },
    {
      "cell_type": "code",
      "source": [
        "df['start_time'] = pd.to_datetime(df['tpep_pickup_datetime'])\n",
        "df['end_time'] = pd.to_datetime(df['tpep_dropoff_datetime'])\n",
        "\n",
        "# Compute trip duration in minutes\n",
        "df['trip_duration'] = (df['end_time'] - df['start_time']).dt.total_seconds() / 60\n",
        "\n",
        "# Compute mean and standard deviation\n",
        "mean_duration = df['trip_duration'].mean()\n",
        "std_duration = df['trip_duration'].std()\n",
        "\n",
        "print(f\"Mean duration: {mean_duration:.2f} minutes\")\n",
        "print(f\"Standard deviation: {std_duration:.2f} minutes\")"
      ],
      "metadata": {
        "colab": {
          "base_uri": "https://localhost:8080/"
        },
        "id": "ZEGRmN6m_VLE",
        "outputId": "3c924ef0-5881-428b-aa4e-b9ae770b5255"
      },
      "execution_count": null,
      "outputs": [
        {
          "output_type": "stream",
          "name": "stdout",
          "text": [
            "Mean duration: 15.67 minutes\n",
            "Standard deviation: 42.59 minutes\n"
          ]
        }
      ]
    },
    {
      "cell_type": "code",
      "source": [
        "# Count trips with duration < 1 minute or > 60 minutes\n",
        "outlier_count = df[(df['trip_duration'] < 1) | (df['trip_duration'] > 60)].shape[0]\n",
        "print(f\"Number of trips < 1 minute or > 60 minutes: {outlier_count}\")\n",
        "\n",
        "total_count = df.shape[0]\n",
        "percent_outliers = (outlier_count / total_count) * 100\n",
        "print(f\"Outlier percentage: {percent_outliers:.2f}%\")"
      ],
      "metadata": {
        "colab": {
          "base_uri": "https://localhost:8080/"
        },
        "id": "G-cFL2-LCWuQ",
        "outputId": "6564e5ca-95a4-433c-8bca-ec48ddde73a8"
      },
      "execution_count": 5,
      "outputs": [
        {
          "output_type": "stream",
          "name": "stdout",
          "text": [
            "Number of trips < 1 minute or > 60 minutes: 57593\n",
            "Outlier percentage: 1.88%\n"
          ]
        }
      ]
    },
    {
      "cell_type": "code",
      "source": [
        "df_clean = df[(df['trip_duration'] >= 1) & (df['trip_duration'] <= 60)]"
      ],
      "metadata": {
        "id": "Xyj7fds6C1ga"
      },
      "execution_count": 6,
      "outputs": []
    }
  ]
}